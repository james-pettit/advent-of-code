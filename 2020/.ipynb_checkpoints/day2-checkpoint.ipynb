{
 "cells": [
  {
   "cell_type": "code",
   "execution_count": 1,
   "metadata": {},
   "outputs": [
    {
     "name": "stdout",
     "output_type": "stream",
     "text": [
      "['6-10 s', '6-7 b', '2-4 n', '1-2 j', '5-9 z', '4-11 m', '12-15 t', '8-9 z', '17-18 h', '7-8 b', '4-5 p', '16-18 r', '9-16 v', '11-15 d', '9-14 g', '1-5 d', '1-4 x', '1-2 l', '1-4 b', '15-16 f', '10-16 m', '4-15 v', '5-12 m', '7-8 q', '4-9 h', '3-7 t', '6-7 k', '1-5 q', '4-13 x', '1-4 l', '6-12 n', '4-6 m', '5-7 m', '9-17 f', '4-10 k', '8-15 z', '2-5 q', '3-5 t', '9-12 t', '2-3 k', '8-10 j', '2-9 k', '9-10 t', '4-6 b', '9-12 n', '2-4 w', '6-10 t', '3-10 j', '15-18 q', '7-8 p', '3-13 m', '7-10 s', '8-16 f', '16-18 s', '12-14 j', '13-14 t', '6-7 v', '2-8 l', '3-9 l', '8-9 n', '7-14 p', '2-5 z', '2-4 k', '6-8 d', '15-16 p', '1-3 k', '7-10 n', '13-15 t', '10-12 b', '3-5 w', '18-19 x', '1-4 g', '13-15 x', '13-14 d', '3-5 r', '1-7 t', '2-5 g', '8-9 n', '6-10 w', '12-18 n', '14-18 m', '5-15 v', '13-19 f', '13-15 k', '4-6 h', '7-14 l', '13-17 w', '1-5 q', '8-9 p', '2-4 h', '1-2 c', '3-5 f', '3-5 m', '10-12 c', '2-4 x', '4-6 m', '1-6 l', '11-18 x', '4-6 k', '11-15 z', '5-6 f', '3-6 d', '6-9 r', '8-9 n', '2-7 b', '3-4 x', '5-14 n', '1-3 w', '9-12 x', '10-14 j', '4-6 w', '10-12 t', '10-11 t', '9-15 t', '2-3 p', '2-4 z', '8-9 n', '6-7 w', '1-2 j', '13-14 l', '7-12 l', '7-8 j', '3-9 g', '15-17 b', '1-7 h', '2-15 c', '1-2 q', '3-9 w', '2-4 x', '3-7 t', '9-11 g', '2-7 g', '1-11 k', '4-12 h', '3-4 d', '8-9 k', '7-8 c', '2-4 v', '3-9 c', '1-9 t', '7-8 p', '6-13 w', '10-14 k', '2-4 s', '11-13 b', '1-4 k', '2-10 s', '3-9 w', '10-13 w', '9-13 v', '5-7 n', '3-4 x', '9-10 l', '7-9 d', '4-8 z', '11-12 m', '4-8 m', '2-4 m', '2-9 p', '7-8 r', '6-7 p', '7-10 m', '6-14 p', '4-6 p', '2-4 n', '2-5 q', '2-3 d', '5-9 b', '14-16 b', '5-6 p', '5-8 j', '14-18 k', '7-8 n', '16-17 c', '1-3 g', '1-2 c', '2-8 g', '10-17 s', '14-16 b', '12-16 r', '2-3 h', '9-13 p', '9-10 m', '3-4 b', '2-3 p', '2-7 g', '2-7 j', '3-5 v', '1-7 w', '7-10 z', '10-12 x', '11-12 b', '16-17 v', '1-4 x', '16-19 g', '5-10 q', '4-6 p', '7-9 r', '2-3 g', '10-12 t', '2-4 g', '11-12 r', '1-5 v', '3-18 p', '10-12 w', '2-4 z', '8-9 n', '10-11 w', '2-9 d', '14-19 c', '1-9 f', '12-14 d', '14-15 s', '2-10 v', '1-2 z', '18-19 l', '2-3 p', '13-15 k', '3-6 v', '4-8 h', '12-14 v', '2-3 j', '5-13 s', '1-7 s', '6-14 b', '16-18 w', '1-4 k', '1-4 g', '9-11 r', '11-13 x', '3-8 x', '12-15 h', '11-12 n', '10-13 r', '7-8 w', '3-4 k', '1-9 c', '2-7 r', '3-10 l', '4-8 m', '5-6 q', '5-6 v', '9-14 h', '4-7 p', '9-13 z', '13-14 l', '12-15 m', '9-10 b', '6-12 x', '6-7 t', '8-11 q', '16-20 t', '3-4 k', '3-9 m', '6-12 j', '3-4 m', '7-8 f', '1-3 w', '1-7 k', '13-16 v', '10-11 h', '10-12 x', '10-14 m', '2-5 x', '8-9 h', '16-19 j', '2-3 r', '14-19 p', '2-5 w', '15-16 q', '4-5 v', '1-4 p', '3-6 q', '6-10 v', '1-8 q', '17-18 n', '3-7 m', '12-14 m', '3-16 w', '8-10 d', '8-9 m', '1-3 l', '7-11 x', '6-7 d', '7-8 g', '2-3 w', '7-10 h', '3-14 b', '4-7 l', '6-7 b', '2-4 w', '13-15 m', '4-9 k', '4-7 f', '4-10 q', '14-15 s', '7-12 s', '7-8 d', '13-15 p', '10-11 r', '10-12 z', '3-4 l', '7-9 p', '3-4 k', '4-5 v', '14-15 r', '6-10 b', '5-7 j', '3-4 m', '11-13 r', '1-4 s', '5-6 z', '3-5 p', '13-14 g', '14-17 c', '6-10 w', '9-17 l', '2-12 j', '1-3 n', '7-8 l', '5-16 s', '1-6 m', '7-15 f', '10-11 w', '7-12 p', '4-7 f', '4-11 b', '1-3 r', '5-10 h', '10-11 h', '5-6 g', '9-11 t', '5-11 f', '4-7 f', '1-15 m', '1-12 d', '9-14 n', '1-2 h', '2-4 t', '2-4 w', '7-11 b', '4-5 k', '5-12 m', '5-7 w', '2-5 g', '5-7 t', '8-18 l', '2-8 c', '1-3 q', '3-13 d', '1-7 r', '9-10 t', '11-12 w', '9-12 r', '6-11 p', '4-6 t', '3-4 t', '4-6 s', '1-3 c', '1-4 d', '6-7 v', '5-8 w', '5-11 p', '5-6 x', '3-7 m', '4-8 g', '5-6 j', '5-6 n', '4-5 t', '2-8 b', '11-12 w', '15-17 k', '5-6 k', '12-13 x', '9-12 m', '2-5 v', '12-14 v', '14-16 x', '6-7 v', '6-9 c', '5-11 s', '6-16 j', '8-12 g', '4-5 c', '14-15 l', '10-11 r', '3-5 n', '2-4 x', '5-6 j', '3-9 k', '3-7 t', '11-16 n', '13-16 v', '1-3 v', '14-17 v', '14-15 m', '6-10 m', '5-8 t', '6-7 c', '2-5 v', '8-16 c', '4-5 t', '10-11 n', '5-6 g', '15-18 s', '2-6 p', '9-10 v', '6-11 c', '17-18 b', '6-10 t', '2-8 f', '3-8 c', '5-6 c', '8-16 q', '3-10 m', '5-15 x', '3-7 x', '17-19 z', '3-4 z', '4-5 v', '3-11 z', '8-11 x', '2-3 r', '6-10 b', '6-11 q', '13-17 v', '16-18 p', '13-15 g', '15-17 b', '3-6 t', '2-3 m', '1-7 j', '15-17 r', '1-3 d', '3-4 r', '10-11 m', '2-5 n', '9-14 b', '10-13 f', '5-12 j', '6-8 k', '5-7 r', '17-18 g', '2-3 h', '1-3 j', '3-5 q', '17-18 n', '2-3 m', '6-7 p', '9-12 k', '9-10 k', '5-10 t', '10-11 l', '7-12 t', '3-4 z', '5-10 h', '1-6 z', '6-7 x', '13-14 g', '1-2 t', '11-15 w', '8-10 r', '5-12 z', '15-16 s', '9-12 z', '10-12 c', '5-10 p', '3-14 q', '1-13 s', '6-8 d', '2-5 j', '14-16 m', '3-8 v', '18-20 p', '7-11 x', '3-4 l', '8-9 w', '2-11 m', '6-13 h', '3-12 t', '5-18 f', '1-3 n', '1-2 w', '1-5 v', '5-15 s', '3-11 b', '13-15 j', '5-10 g', '2-7 q', '10-12 d', '5-7 c', '11-15 r', '13-14 r', '8-10 c', '8-9 s', '1-10 r', '8-13 w', '7-12 k', '7-8 l', '11-15 q', '8-9 m', '6-7 k', '4-6 h', '2-5 k', '3-12 j', '5-18 p', '1-3 g', '14-15 n', '19-20 d', '2-4 v', '1-8 w', '13-15 t', '6-11 h', '8-9 k', '11-12 d', '11-12 p', '6-9 v', '5-8 m', '14-16 q', '2-11 f', '10-19 p', '5-7 j', '9-10 p', '3-15 k', '6-7 r', '3-4 k', '12-20 g', '3-5 x', '8-10 k', '4-10 q', '4-12 t', '18-20 s', '3-6 x', '4-5 t', '5-7 q', '2-4 s', '6-7 b', '1-13 z', '1-14 d', '8-13 j', '5-6 c', '10-12 v', '2-3 b', '1-10 l', '5-10 d', '10-13 t', '5-6 h', '16-17 x', '6-14 g', '15-20 f', '2-3 d', '5-7 g', '2-12 g', '6-8 h', '3-10 j', '2-3 h', '7-8 w', '14-16 s', '5-6 d', '3-4 p', '8-14 c', '2-3 s', '3-4 g', '2-4 h', '4-13 h', '3-10 x', '12-13 p', '7-12 l', '1-8 p', '12-18 n', '9-10 g', '6-7 g', '1-7 b', '2-3 t', '8-10 l', '1-2 c', '4-9 d', '5-8 f', '7-12 s', '2-4 h', '1-10 k', '5-15 q', '12-15 c', '8-10 w', '5-13 b', '1-2 v', '2-5 s', '3-4 h', '3-5 p', '13-20 l', '2-4 p', '2-4 l', '1-7 t', '10-12 m', '5-8 l', '5-6 d', '6-8 c', '8-9 d', '10-11 z', '3-4 s', '3-5 z', '2-18 v', '9-12 b', '3-11 n', '3-8 v', '6-11 q', '9-12 b', '9-10 g', '3-5 c', '15-18 z', '7-8 g', '9-10 s', '14-17 g', '10-15 g', '9-11 j', '5-6 c', '2-4 g', '5-13 h', '11-16 v', '6-7 c', '3-5 z', '8-9 d', '5-11 k', '4-7 r', '15-16 r', '2-19 f', '9-11 v', '2-4 m', '13-14 z', '4-10 t', '3-7 g', '5-8 c', '6-12 z', '14-15 c', '3-4 j', '1-2 x', '3-4 s', '17-19 c', '3-6 r', '10-11 c', '1-7 p', '3-4 h', '5-6 n', '5-10 v', '7-14 h', '4-12 f', '2-3 c', '4-13 k', '8-10 b', '1-4 p', '14-17 n', '5-6 d', '9-10 r', '7-11 x', '13-14 w', '2-4 d', '7-9 p', '13-16 l', '9-11 q', '4-5 d', '9-11 j', '3-4 c', '15-16 r', '2-5 b', '4-5 w', '8-16 n', '5-6 n', '2-5 q', '6-18 r', '3-5 g', '4-11 s', '14-16 d', '18-19 n', '11-13 f', '5-11 n', '3-4 f', '2-4 r', '10-18 z', '4-5 s', '11-15 x', '2-10 h', '12-13 b', '4-5 m', '3-6 j', '10-12 x', '14-16 g', '8-9 x', '16-17 f', '2-8 z', '2-6 v', '1-2 w', '2-6 k', '9-12 p', '12-19 m', '3-5 x', '17-18 r', '2-9 b', '1-11 h', '2-3 j', '5-6 f', '17-18 j', '1-4 m', '2-6 p', '1-2 f', '1-5 r', '7-10 w', '1-4 w', '1-3 f', '10-12 k', '5-13 r', '9-17 x', '12-13 j', '2-4 l', '12-17 p', '4-18 b', '12-16 r', '2-7 m', '3-4 b', '2-6 k', '4-5 q', '6-8 c', '16-17 l', '7-12 c', '6-7 b', '2-7 q', '4-5 h', '9-15 n', '3-4 h', '5-11 r', '5-7 b', '2-3 f', '8-14 c', '1-8 r', '4-5 p', '11-13 d', '8-15 h', '6-10 l', '14-15 t', '4-6 p', '13-14 l', '11-12 s', '6-7 j', '2-14 w', '8-9 w', '2-5 r', '7-9 b', '1-12 l', '11-12 m', '10-11 l', '3-9 w', '9-10 q', '7-9 l', '6-7 g', '5-10 v', '9-10 d', '17-18 q', '6-10 h', '8-13 l', '6-12 p', '4-5 k', '7-8 d', '9-10 x', '8-9 g', '10-20 d', '3-4 g', '16-17 l', '4-10 r', '4-6 k', '4-8 n', '12-14 l', '3-6 r', '1-6 s', '7-15 d', '9-10 j', '7-10 k', '4-8 m', '9-13 c', '3-5 q', '7-10 s', '3-5 k', '5-10 f', '5-9 x', '2-10 q', '3-4 g', '8-10 j', '2-4 v', '7-12 q', '12-13 f', '2-3 f', '10-11 z', '5-7 k', '6-9 z', '2-4 b', '9-15 c', '8-11 q', '5-7 t', '2-6 n', '3-7 p', '9-12 d', '1-5 h', '6-7 m', '6-7 j', '1-5 q', '10-11 b', '1-4 k', '12-16 s', '4-10 k', '10-13 z', '6-12 g', '3-11 m', '1-5 n', '4-5 h', '4-5 g', '2-5 h', '2-4 f', '4-6 k', '4-5 q', '10-11 h', '2-17 r', '16-17 b', '3-5 z', '13-14 w', '8-10 d', '1-4 b', '2-10 d', '8-15 t', '11-12 j', '4-7 r', '2-4 r', '3-4 b', '10-11 w', '6-14 z', '12-14 w', '6-10 f', '2-11 q', '8-11 v', '6-8 n', '8-15 q', '1-4 n', '5-18 c', '3-4 j', '11-12 m', '2-3 d', '1-5 m', '6-7 l', '1-9 m', '9-11 m', '5-6 p', '10-19 t', '7-9 m', '3-9 h', '11-16 p', '1-9 k', '10-17 q', '11-14 g', '3-4 t', '9-10 t', '1-4 t', '3-8 f', '9-11 q', '12-13 v', '7-11 b', '7-8 k', '4-6 j', '13-16 m', '7-9 k', '1-4 c', '1-16 k', '2-12 l', '4-9 g', '6-7 q', '6-7 v', '10-14 t', '5-7 h', '4-13 w', '4-5 h', '2-4 n', '5-6 s', '11-13 n', '3-4 s', '3-4 s', '16-17 p', '2-4 v', '8-9 w', '4-6 s', '4-5 x', '4-5 f', '4-5 z', '3-6 v', '5-6 f', '4-7 z', '3-5 q', '3-7 w', '6-7 h', '2-5 v', '8-15 r', '9-17 n', '5-6 n', '5-7 l', '4-6 n', '7-8 w', '1-16 c', '6-9 l', '3-9 q', '5-9 h', '8-9 c', '2-19 n', '3-4 p', '1-3 b', '3-6 h', '2-8 f', '11-19 h', '4-14 s', '11-12 f', '2-13 h', '1-3 t', '3-4 t', '2-9 n', '1-8 j', '2-12 c', '18-19 f', '1-4 j', '9-11 z', '5-8 g', '2-5 k', '2-4 f', '4-12 l', '13-14 n', '4-8 l', '10-11 k', '5-6 g', '6-14 h', '6-9 w', '7-9 b', '7-8 w', '2-11 g', '12-17 l', '12-18 g', '1-3 l', '14-16 k', '2-3 v', '7-8 r', '7-8 f', '2-18 j', '8-9 q', '2-3 n', '2-15 s', '1-5 q', '9-18 b', '2-13 b', '6-7 t', '1-7 z', '4-12 m', '9-11 p', '10-11 c', '2-6 t', '3-13 q', '16-20 z', '5-15 w', '2-4 p', '5-7 d', '2-3 f', '1-3 v', '11-15 k', '4-6 b', '7-8 c', '9-10 l', '4-5 s', '12-14 j', '1-3 l', '12-13 d', '3-5 l', '3-4 r', '1-3 c', '9-10 g', '3-6 d', '13-14 f', '6-7 d', '7-16 h', '4-6 q', '2-7 t', '8-16 x', '2-3 d', '9-10 n', '4-5 f', '12-15 n', '1-2 d', '2-5 v', '1-14 v', '5-6 r', '2-3 b', '1-14 g', '1-6 x', '1-2 r', '6-7 c', '4-8 b', '1-4 w', '1-3 h', '2-11 j', '6-7 m']\n",
      "['snkscgszxsssscss', 'bbbbbxkb', 'nnnjn', 'jjjj', 'jgzzzqhbj', 'mfmmmpmjmkdr', 'twqrxttwttthtkxbz', 'ftzjzzzzr', 'cpkhssvpphzvprfnft', 'bjbbbbbb', 'pppppppppgppps', 'rrrrrrrrrrrrrrrrrr', 'vvvrpvbvvvvvvvvvwvvh', 'ddddddddddddddjd', 'ggbggghggggggggw', 'ddddbd', 'xxxwxxx', 'bdjjddlqg', 'lbbxb', 'ffffffffffffffmz', 'mmlmmmvmmmbhmmmq', 'vlfvvqphhjfvlgt', 'mmmmjmwmmmmcmmm', 'qqqqqqxkq', 'hhzhhhhhhhhhsh', 'thltdtjtstzrtwtt', 'kkkkkkk', 'jqwqd', 'xxxxxxxxxxxxxxxxxx', 'llfl', 'nnffnfnnmnffnx', 'xmvxnmpmm', 'mmmmbmmmmmmmmm', 'ffffflffbfffffcffff', 'kkklkkkkkhktkkbkzq', 'kdxxzzlhpzgbzjzz', 'qrqqbqqqqqqqkqq', 'zrttht', 'ttxgntjmvntctpfrt', 'kkkk', 'jjjjjjjjjj', 'vkwkhcqnk', 'ttttttthtt', 'bbbbbbbb', 'xnvnnvldhthlsn', 'wwwwwwj', 'tttttwttttvtt', 'jqjjjxjdjnjjjj', 'kqlncdqwclqpjzrbnq', 'gpwbjppp', 'mmmmlsmfvmhmmmm', 'wdshsrsgsl', 'fffffffxfffffffcf', 'ssskswhsvslwsssrsq', 'gjjjjkjgjkjhjvj', 'gtttvftwtgvhlt', 'vvvvvgbv', 'ssldslmvl', 'bflzllqkqlkll', 'rrnnnnnnsn', 'bqsrxgplkpdvbpkn', 'wzbclnsxt', 'knkxk', 'drddjddjdd', 'ztgptpfpcwppqrzppps', 'nmsqksv', 'pwhbcwnlznfnvrlnds', 'tttttttttttttttttt', 'bbbbbbdbbgfxbbbf', 'rwwwj', 'xxxxmxxxxwpxxxfxgln', 'lfsjtgggg', 'mxzgtxhrxjhxtnf', 'ddddddddddddlx', 'rrrtrrtmlr', 'thttttttttt', 'sngggj', 'tnnnnnnnn', 'wkwwjfwltk', 'nnnnnnnnnnnnnnsnnh', 'mmmmmmmmmmmmmmmmmmmm', 'fvvfrcqkvkggnpl', 'ffffffftfffdnffffpsf', 'kgkkkmkkkgftklb', 'hhhchvh', 'qmbdhdjbrglxql', 'kwwwwwwwwwwwdpwww', 'pqqqdqqqq', 'vhwphvpfp', 'hljmh', 'tmcc', 'dpnvwffhlp', 'mmmmmm', 'ngjnczmcscxc', 'mxxj', 'xbmkmm', 'kllllsblqhngl', 'xprkjcrxkgxxgwtbmx', 'vwxshkkkkbtfbhl', 'dzzkzjjzzzzzzzlmzbn', 'ffffnfffflfjff', 'ddddddbd', 'wrrrvrrrr', 'nnnnjnnnt', 'bxptdkctbrxfllpvj', 'hxxv', 'nrnnnlsnznnzrqnjxnp', 'wwww', 'xxmxxxxxxxxxtxx', 'jjnjjjjlvjkcsjjdllvj', 'wgwbwwww', 'ttqttttttttl', 'ttwtttttttv', 'ttttttttftttttttt', 'pfgp', 'brrksnvqjzwqjvjs', 'knnnftzjbqj', 'swjwwdwwwwwwwww', 'xjlrkjjztrjfpss', 'llllllllllllvlllllr', 'lllllllllllblllll', 'gqdcmjqh', 'gchkbvgvgw', 'bbbbcbbbgbbbbbmbg', 'qlmhhcdhhhhhhhhhh', 'ccccccccccccccscccc', 'xvch', 'wwwwwwxwww', 'jskx', 'btwsnvts', 'gkhgwctggbm', 'xvgwwltdvnzscbtqwb', 'kkqkpkkdkkkkkkkhkk', 'nbqlhjbqhxtnxlzlr', 'dwdd', 'kkkzbckklqqkhfkqkk', 'pcxmqdwc', 'qbvwvvnvvp', 'pfqcblwxcrmx', 'fwgtcrftktt', 'pppppppp', 'dnwfhwkjffpdwgzdf', 'kkkkkkhkkwkkkkkk', 'zscssddtpmqblmd', 'dbvzwthlcmbkb', 'kqlxwvbkckwzmqxvtcc', 'sxssssgsssxsssnss', 'nxrmwlpgw', 'wwsgwwwwwwwkw', 'vhvvwjvcvbvvg', 'fbvnjpt', 'xxxx', 'rlllmlllll', 'ddddddddhd', 'zzzhzzzf', 'mmmmmmmmmmkf', 'bmfzppcqttct', 'mfmcmmmcx', 'rppzgvshn', 'rrrrrrrrrrvr', 'hkltppp', 'mmmmmfmmtmmmpbmm', 'pppppppppppppxp', 'wbspppnlmc', 'xnfnl', 'nqkcqmvwp', 'ddkbkdjd', 'qxjbblbrb', 'bbbbbbbbbbbbbqbbb', 'dppppp', 'kxztnjjn', 'krkkkkckkkkmktkkkkd', 'nnngxnfpnn', 'ccmccccccccccccfcccc', 'wggg', 'cqcckc', 'gjwdkbds', 'hswqssmttskspdlkkss', 'bbbbbbbbbbbbpbbrbbbb', 'srrmcbrrcrzrdwzng', 'fcws', 'gkgpqpghpjbpz', 'mmmmmmmmmmm', 'brbb', 'gncvqdhp', 'gdggggggggggggg', 'jjjjjjrjqjjj', 'ltptjlntf', 'gwwwwwfww', 'zzzzzzmzzzz', 'xxhxxxxxxgxsxxxx', 'bbbbbbbbbbbbd', 'vvvvvvvvvvvvvvjht', 'bxxx', 'gggggggwggggggjgggg', 'qjpqqvlnkqxmlv', 'qrpffplvpp', 'rrrrrrgrb', 'bgjg', 'ttjttttnttdtt', 'dgng', 'rrmrrrlrtrrj', 'qvvvvvvvvvvvvvv', 'ftnfnpmjprmrzmhbnxj', 'dqnsjjxsqrwq', 'lzgkzsb', 'dwclxdtnndtpcgqmx', 'zjwdsphbbwlhp', 'zzprkgzczbs', 'gpjfrvsrcnbxbclctxc', 'fmhfvfffrfws', 'ddrddbddddddddhmdg', 'sslsssmsnssdxsj', 'ljppzjfvfnfp', 'qbwbzknrzzs', 'llllllllfllllllllll', 'ppgp', 'knkkkkkckkkkhkxk', 'vbjvmv', 'hmhcxfhg', 'vvngcvvvvkvgvs', 'xdjjrk', 'sssssrqsssssq', 'sssssssss', 'ptlvmbbrbxnvqbrmp', 'wwwswwnwwmwwwwwwwf', 'kkknkkkkk', 'ggrbk', 'rrrhrrrrrrrrr', 'xxxxxxxxxxxxnx', 'nsxvlvdfbkpxsgscn', 'hghhchvjhhhhlvhhhhh', 'nnnnnnnnnnjqn', 'jrzfzrzrqblmks', 'wwwwwwwh', 'kkbft', 'cccccjccccccn', 'rrvnrxrvrzsrbrs', 'llgdldmlplqlhdlll', 'mmzmbmgm', 'sfxqnftnbnqwq', 'vvvvgvvqv', 'dhmwrhzqqvhhhfhfhhht', 'jwwppvpklc', 'zzzzzzzzzpzzzx', 'fllklltlllllcphllll', 'htmbmqgljcmvmclgnm', 'bbbbbbbnbb', 'nxjbxxhxxxxgdxx', 'tttbwlk', 'fqqjtlswqgkqdqc', 'xplwqxbwtsfptbvtvcxt', 'kklkkkkkkxkkkk', 'kmmsvmpmxmgmb', 'jjtjjjjjjjjpjjwj', 'kkmbmzkx', 'gmfxlgfjtfst', 'wwwn', 'knkktkkn', 'vvvvvvvvvvvvvvvmvv', 'rhvdhnfhvtchlfhh', 'xgxwbqxkxxcwsfd', 'mmmrdxpcmcmmmkmmmmm', 'vvxpx', 'hhhhhhhmfh', 'jmwjjjjjjjjjjjjjjjz', 'sqrnr', 'ppppppppppppppppppk', 'wwwww', 'dppxtnhmxrhmncrqq', 'drhpp', 'pkhn', 'gwmrfwh', 'dlvvfhvvkb', 'qqqqqqqqqdqqqqqqqq', 'nnnnnnnnnxnnznnpnng', 'gmxzffwmbdm', 'dmzmcmmhjmqltm', 'drcbwtvqgbppbwzvm', 'ddbddddzdddddkpd', 'mmmmmmmmmmmm', 'glll', 'fxrxxdxxxqxnxx', 'ddddxgdd', 'hgggbggg', 'pwwtww', 'lhwbhjhzhx', 'bbbrvrbsfbnxrgqbbq', 'jzqkxlnpxlglfsll', 'hbpbbbb', 'pskwwxzpjvmwcnfr', 'mmmmmmmmxmpmxmmm', 'krxkzqzkkhrpqth', 'xfffkvfqzwhcfwkhq', 'qqqqqcqbqqq', 'lgszsdststlpgjbs', 'sspbsssskfns', 'cdddqpnd', 'ppppppppppppxppp', 'rrrfxrrrrrrrrr', 'zzzzzzzzzvzvzz', 'lllwll', 'ppppkpppqpppppsvx', 'kkkrk', 'zxmmvmhvr', 'rrrrrrrrrrrrrfjr', 'vwbgbbbbdbqsbb', 'jsjjjkv', 'tzmhr', 'rrrrrrrrrrqrhrr', 'psqmcssnk', 'zdkzzzz', 'cnpmbtknqdppmcjpzvcn', 'ggggkggggmtggd', 'nxmzcczccnvdcxpcmb', 'wlwwbdwwwwwwww', 'llllllllllllllllll', 'jpjdjjjzmjxj', 'szjntnnl', 'dpxlmhlbts', 'sssssssssssssssrs', 'pmqvlc', 'ffffffffqfkfffdxff', 'wwwwwwwwwwswwww', 'tkppvfpwksrp', 'fdjdgdvsksbfbnjkspc', 'bjmvfrmlmlbndl', 'rrrnxhgbwr', 'xhhmhhhlhbh', 'hghhhhhhdlhhh', 'gptglg', 'wtgtxtttqtmttt', 'jxqffhfsfmz', 'frjffbf', 'mmmmmmmmxmmmmmmmm', 'drwlbpdbzdgdjpnzmj', 'nfnmktjnncnnnln', 'pshhjhhhhf', 'tgttttttfb', 'dwpwhnxbf', 'vbcbzhbwhpb', 'hknck', 'mmmmtdmmmmmmmm', 'qwflwxq', 'jdnxdlclplvb', 'ttrtttttkr', 'lwscjwlmdlzlllnsllpw', 'cccxtccchbrkr', 'qqtqqqqq', 'dddddddbddddddd', 'jkpzrpfnrgpkc', 'ttttttttttt', 'wjwplwwwwwmw', 'rpsvrhrbnrwqch', 'zpzbpkpmtnptsnpbswc', 'jhzstt', 'ddpkcgpzhd', 'cvzshjfrsslxnslqddwt', 'cgsczhl', 'lddqdqd', 'vvvvvvb', 'wwwwwwwwww', 'ddswpbpppsqpp', 'dfzxxxhhqjvj', 'mmmmmmmmmm', 'ggggggggg', 'jjcjjn', 'nndtns', 'ltxkdpst', 'ldwkbzbxgpbbbb', 'wwqwdqwwwqhvwww', 'klkcxqbwrktxcmqlnb', 'tkqhkkkkrkjfd', 'nxxxrjxxxdjlxxbt', 'mmzmmmrmmfmgmmmmb', 'tkbhvlvp', 'dvbvvvvhrcvvvxxvvvvv', 'xxxxxxxxxxxxxrxxxx', 'xvswnvvm', 'vcpcksxwbdlc', 'sssssjssssrsdjsssq', 'jjjjjmjjjjjjjjjnj', 'ggggwggggggnggg', 'ccczk', 'lllllllllllllkm', 'rrrrrrrrrrrrr', 'dwnvnlj', 'xdxxxx', 'jjjjjjj', 'kkkkkhlrkktt', 'stqtgfdprtqjsgznrtjh', 'hsnnnnnnnnfnvnpqnnn', 'kdvbvxvvtvhvvvvq', 'vwpvkvdpxgc', 'vvvvvvvvvvvvvnvvhv', 'mmmmmmmmmmmmmtm', 'mmmmmhmmmm', 'tttjrttdsttfttwstf', 'ccqcvcc', 'vvvvvv', 'cccccccccwcpcccmcccc', 'ztvttktttttt', 'rnmnnnnnnnnnnnnpt', 'lgsggggg', 'lcsmgkjqzdpcgvsrng', 'wwpppp', 'vvvvsvvvmvv', 'qrmdjxzsmxcmcccgrr', 'bbbbbbbbbbbbbbbbbbbb', 'thtxgtpxwt', 'xkgbrpqfsrhhbnfpdg', 'gqkkvgkcqfwdc', 'jjcsjf', 'fbwdmlwljqqcrqsq', 'mjmmsmmmmmmcmm', 'xmrvcsjwxxdpsrxzcrzj', 'rxngzxxg', 'mmvfgzpmbvzsrmkgmmmb', 'zdzz', 'vzcvb', 'tzllpgzzmwxznh', 'ptgvnbxzsxwdb', 'rrrrr', 'bbmbbbbbbb', 'wvmqrzrllhxfzmpkp', 'vvrgvvsvvcqkvvvvbvvw', 'ppppppppnppgppppclp', 'gglggggggngggggggggg', 'bbbbbbbbbbbbbbbbb', 'tpwzktlzkdt', 'lmvtnfjzmm', 'jzjjfjx', 'rtfdnhrrhrrdcswrl', 'gdfdmddddwdddlsd', 'qrtr', 'mmmmmmmmmkc', 'gntnnnncc', 'bbbbbbbbbbbbbb', 'fxfffznffffzwffflz', 'vjjrjjjjngjjjjm', 'kkkrkklkkkkkkk', 'rrhzsxrjjw', 'gggggggggggggggggf', 'ghhvrh', 'hjjxjjjj', 'gbqnqkprckxqglkhw', 'ngnnnnnqnnnnnnnnnnnn', 'xlhmmq', 'kvvphgj', 'kpkzkkzkkkkkbwk', 'kkrkkkkkmt', 'tttttttttttttttt', 'ztdvlllzfltlwlglkhcj', 'bttttqtqttttttttg', 'xzvb', 'lhcdhkhhhhb', 'jqzzqzzzzzzzzzzzzz', 'qxxxxtxz', 'gggngggggggrgsgg', 'tttt', 'hpwhwmwlkbwtwmwlj', 'rnrhrrmprnrrr', 'rshzhwgzhfjb', 'sssqssssssssmsss', 'zdzzzzzzkzmz', 'mfgpskncfcfctjmt', 'sppwnpdpptppwdppppp', 'mnzfgfmvmsdlqg', 'sssssssfssssbsss', 'ddddddddd', 'vsbbjh', 'nmklmsrpjxwpdbmj', 'rfvvvjqv', 'pppppppppqhpflppbppp', 'xxxxxxwxxxx', 'llmvlll', 'grmvwtwbz', 'mmmmmmqmmmsmmmmmmmmm', 'hhhhhrshshhhlhhhh', 'tnttblttttcvrtttx', 'cfffcffvgffffrmlfx', 'rnjnnnnnnnnnnnnnnn', 'smmdq', 'vvvvvv', 'tssssscssffhsswssss', 'bbbbbbbbsbkbbbr', 'xjjpjjcjjjjjjcj', 'bvjvgpzgdgkmmzwnwrxz', 'qqqqqrq', 'fddddbdddxdqpd', 'hsccjccrlm', 'nrrrlrrvrdlrprw', 'drrtbrrrrrrrrcrrr', 'ccccxcchfjcccccxpc', 'sssssssss', 'rvlgkrrrrm', 'jwbwcwmwwvwwwwww', 'fxkkcnkkbvkxbkphx', 'llllmlvll', 'qdjpqwgfqjdqnnq', 'mmmmmmmvmmm', 'kkkksmkb', 'hhhlhhhhfhhhhhh', 'xzjlwb', 'sjwqrjzjgqrj', 'ppppppppppppppppphpp', 'gggrggggg', 'nnnnnnnnnnxnnhnnn', 'jkpzsxwsddzccjdkcptj', 'wpdz', 'dwjtngwwwrwhp', 'tttttctttttxvfrt', 'ksvshqhhdth', 'khfkdkppl', 'whlmcdmfgfddd', 'htvxpkfngthz', 'vqvmvvbbv', 'lghmmmrmmw', 'dtmqqrqqqqqgpgqtqr', 'bfjskxzlgvfml', 'kpppppppphppppppppp', 'rfbpzmjtjj', 'kpppppppqpp', 'hgkgrqblnjmsbvrghzdk', 'rrtwrwlfrswwr', 'fkkdv', 'ggggggggkggggggggkgh', 'xxxxpxxxxxxxxxb', 'kkkkkkkzkh', 'qqqmqqqqqcqq', 'ttgtqblzqzpttcxdtfn', 'sssbbsscsjvslsvsssss', 'xxxxxxx', 'tttttt', 'xqqqqqqqxkqqqqqqqtqq', 'zsvq', 'mmbcklx', 'zzfzkshpslwcn', 'ddpddtdddddmmf', 'jjjjjjjjjjjjjjjjjz', 'cjjlxb', 'vvvvvvtvvmvv', 'wfbbg', 'llllllllllllllllll', 'hdbhdgxcjd', 'ttttttttttttnt', 'vhmhhh', 'xxxxxxxxxxxxxxxsqx', 'gzggggzhggggzgg', 'ffbfxffffvfffffffhfd', 'xdvw', 'zgggjgq', 'ggggggggmgggggg', 'hhhhhhphhhlhjhhxfh', 'knjklstqxwcsjf', 'hvnwjxhpsc', 'wwwlwwgw', 'chgtpswssxsqtwzrsqt', 'zdbdkl', 'lwkpbrbp', 'cbhtccjmrccrcp', 'tctflmgdtsjjfxpl', 'gggjkctwdsgl', 'ghbh', 'fczphhvflghhhd', 'jkzhgljwsblcrmbwfx', 'npfgppprzpppc', 'sqbplmqnlmwph', 'hpppvpprppp', 'nhbznznxncnkcchscl', 'grjxmgzpgk', 'rcmkggggggg', 'bbbbbbbb', 'ttftzqt', 'twbjlnblhck', 'cvbc', 'mfpdddsnd', 'flpvbdrfl', 'rhspsxlbpsmsclzrdsfc', 'vhhh', 'bhkkkkkkxkkkzk', 'qqqqqqqqqqqqdqdqql', 'ljvcklwjvngfgfgrjsv', 'pwwtpbwwvwwrwww', 'tbjmbfmknjhbb', 'cssd', 'ssssss', 'bhhxxhfh', 'pfppp', 'lcxxllcfjmllclljllfl', 'sqpzk', 'xlllb', 'ttttttrttttrttttttxt', 'bwmmghzmqmmpmj', 'jtlljpql', 'lddddd', 'nljczccdwvnmrlqvlsc', 'dzdddcddt', 'zzzzzzzzmqj', 'msssss', 'xzvdzbzt', 'bvcbpwkbdmclbnbmsv', 'jrcccsndstzbxprkvtq', 'vlntglzvvcnngn', 'rpgckwptlvdqsrqqt', 'qdqdkqvkvhdrdqm', 'khbmbgbbvbqb', 'gtggggggczgg', 'zqctcs', 'kbzsdhbbzxfzzqdjzc', 'ggggggzx', 'sswssrssqms', 'ggggcggggggggpggcgg', 'qgzmbkjlggrhgkg', 'jjjjjjjjqqjjjjjj', 'cgcdcchcccbcc', 'gggg', 'plkhhrmxhxhmh', 'vkkqrvbvbcvvnvvvvv', 'rlfmqphqrhqkhch', 'hzspz', 'kddmdddpdvddln', 'wkqkcfkpvnkvh', 'fnzzwxrxr', 'rrrrrrrrrrrrrrwr', 'fvffffffffffffffffwf', 'hbvbvvgcvvvj', 'mrxpv', 'zztzgzzpzzzzzg', 'qtvtcrfmlkrgtwsvwtw', 'ggggggfgggggggg', 'ccccfcccnmccc', 'bzfcjzdznzwzrzbzzqrn', 'ccccccccccccczkccccc', 'jjjjjjf', 'kxxxx', 'sksj', 'hvchccvccdxgccnxdcc', 'trrrrrrr', 'ckcjzcrzcbc', 'pmqplfpvgq', 'hhmx', 'nnwndln', 'bkkvfgvqwdt', 'hkjlwvhdnhxhwcnhs', 'xxwfjfcwslrfzrxfkxj', 'ccccc', 'kkkdkkkkkkkkkkk', 'mqlljkpbbbxbrbfx', 'pppp', 'nnnnnnnnnnnnnnnngnn', 'dddddddvw', 'rjtrrrmqrrrzrrrrjrrm', 'bxxxxxrwxpmn', 'gwmwwwlwwjwjwx', 'dddddvddd', 'pjmdppgpspcslh', 'tllllzllpvllvlzd', 'qzmwqqzqtqqq', 'dvdngdd', 'xxxvjrmgjpk', 'rvvcn', 'rxvmlslkpmqdqtdd', 'sbflb', 'wntpw', 'nnnnnnnhnqnnnnnnn', 'nnnnnnn', 'bsjfhq', 'prrrqkmrrrvbrrrrdfrv', 'xnxlp', 'jsstsssjssfssss', 'dddddddddsdddddd', 'vgngvbhdjfrbnznhhjzn', 'ffffffffffgfgf', 'dbgvngchnkngt', 'gsff', 'rfdrlznkzg', 'zzgzwzzzzzzdzzmzhzzn', 'qscmbssss', 'xbxxxxgxxxbxxzw', 'dkrnxknmthcv', 'bbbbvbsbbbbgcbnb', 'mmlmmsmmh', 'njrjjkcr', 'xxxxwdnxxxxx', 'hggggggggngggggg', 'gjqfxxxtxxxb', 'ffffffffjffkffffmffb', 'tsktkzfxntrv', 'hvvswd', 'xddl', 'svwvvkqmzwjkx', 'ppppppppbppspppb', 'mdjmlhsmxmwcmmmmmmm', 'rxjxb', 'rrrrrrrrrrrrrrrrwk', 'cbfbqcfwbmwd', 'hhhhhbhhhhmvhhhh', 'jkjjgjhxj', 'fffffffffhf', 'jprvtszvgsbtxlrhljsz', 'mmhmmmp', 'xvfkpkc', 'xqtfcf', 'brrrrrr', 'wwhwwwdwwj', 'vwwdh', 'hnpvgfwth', 'kkkkkkkkkdkq', 'rrpqrrvrqrswzr', 'xjxxvxvbtxxxtpxpx', 'njrjkcjgbjjnj', 'lvll', 'dpppprpbppnvpppprp', 'zftbmbxgzfzdvdnvhb', 'lcqgqjthprlxrzrrx', 'msclccmxhsmf', 'bfkb', 'skfgrk', 'qqqhhx', 'cccmvcch', 'bxnlvbvwzvfvbcmxl', 'cccccccccccc', 'bbbbjsjbbbs', 'phxnfxqrqv', 'hhhhhh', 'nqnnglsjnnghxrn', 'hkkh', 'rlsjvrrrrrl', 'bbbbzbwbbbb', 'qczff', 'fccqccccccclccccck', 'rrbfmjsr', 'dpphz', 'wdmwkcqddrdvdz', 'hhhhhhhhhhhhhhhhh', 'dhgdclhlkltnc', 'tttntttnthtttzw', 'pppppdp', 'dvlnvlgtbpnhll', 'brsqgfsnpmwskhdnm', 'httjvjj', 'wwwfwjzwrzfwnwjwwm', 'wwrwwwwgt', 'dvrwb', 'wwvqbsbjb', 'lljxlbslwlgn', 'mmmmmmhmmmwbmkmmt', 'lblllmllldl', 'wwpwwwwbfwwwm', 'pcrqfqlskz', 'llvlllblklllx', 'qgggjmwg', 'vvvvvxbrvvp', 'hqddgkkdrpdd', 'qqqqqqqlqqqqqqqqdt', 'hspnhhzldxphdh', 'vvvscdnlblllml', 'ppkrprpxwpppwx', 'tkslb', 'hdjdhnzdd', 'wkxtblgxxjxxlqnfxxlx', 'rggggggdk', 'kcgdtbbswwdtvgdgxfwd', 'gggggg', 'llnzlqllllzllllmllll', 'nsrrrbzrfzcrrzrrdqk', 'kkkkkpkk', 'nnnmntnnrnnn', 'lllllllllwlqllll', 'rrrrrrr', 'ssskcshsxtd', 'ndrbdnntdmkddxd', 'pjjjjgjsjhjj', 'pkbkkkkkgkq', 'mmxmmmdmmmmm', 'ngjcrcccvbcvqdjmph', 'qqqqqq', 'fcssnsssssslxspr', 'kkkkvv', 'tlbcvgwfzlf', 'xxxxqxxxx', 'qrprhbrhjhb', 'gggmgg', 'jjjjjjjgjpjjj', 'dvzvvtfm', 'zvzqprjhqdcqfzr', 'ffffffffffffqf', 'fffsdwq', 'ztzzjzjzzzlzzz', 'kkkkqtkkkkk', 'dfbzhgsrzsp', 'wpqb', 'cwchcdhxlqzccxbb', 'qqxptqqvqrgqg', 'ttttztcvtjtkts', 'nnbmdnjxclwkffrnxff', 'pppppph', 'xhmfndzcddfddvgddf', 'hthmhvlthhhhh', 'mmmmmmm', 'jjjvjjjrj', 'mqnqwqqqqqjq', 'bmbbbdbpbbbbzbb', 'gvccvdltkwcdd', 'sssssssssssjssshs', 'wzvlkmdhcklhdp', 'zzzzzzzzzfzzj', 'bmzmvvggpgtm', 'nvcpfgvnsqmwxmmz', 'dnwnnnnnnnbndnnn', 'lhhhh', 'gggdg', 'xthqhfj', 'lfkf', 'rqbhrtzktmvmrxck', 'jqdsc', 'hhhhhhhhhvjh', 'rrrrrrrprwrrrfjrr', 'bbbbbbbbbbbbbbbbhbbb', 'pkvzzfrljrjctw', 'wwwwwwwjwwwwww', 'dddddddldzpq', 'sbbgb', 'vnhpzmvpcddhs', 'zftpwtrtqjqtfntp', 'djjjjjjjcjjcj', 'jrrtrrrvmzzrrvsl', 'rpkp', 'qbxc', 'wwwwwwfzkdmnwwv', 'mztxzzztmzwzzqvm', 'wwwwwwmsgwdwsqwjwww', 'zfhqjfhnjfdvwsfftf', 'mwbbqdncdfq', 'zvtvvwvfvvq', 'xnwhzmdskwhn', 'qqqqkqqqqqqqqqst', 'nnnnn', 'sqczchcwcccclccccccc', 'klgr', 'mmmmmmmmmmmm', 'qdxfmqwbmdnvj', 'cmmmm', 'llllllll', 'zmmmmmmmlmmmmmmm', 'dwspwrmjsxpc', 'qpppfz', 'fvtphwzsptqzntbkxqt', 'mpcmpmmmvptmm', 'hhhpqqwhhtm', 'pppppppppppppppvp', 'ktkklkkkkkkk', 'rthtqvgspqkvfkgkqfhj', 'ggxgggggxggzggcnggg', 'tttt', 'sqtbdttthtttm', 'ttkbgdzztbxd', 'gxfcrrsfntftvffnfqff', 'qqqqqqqjlqqq', 'vvvvvvvvvvvvk', 'nbxbbbsmbtkb', 'kkkkkknn', 'jjjjlv', 'mmcmmmmmmmmmmmmvs', 'kdkkkkrkgkk', 'crcdlrdbzc', 'kkkkkkkkkkgmkkktkkk', 'llllrlllllllll', 'gggbkgpgz', 'qqqqqqjq', 'hvvvvpm', 'ttfxmqtgtttttbtct', 'hwhhfrnch', 'zdlrqvxwwzsfrfq', 'hhhshhhh', 'vhjfnz', 'sssssss', 'nnwrnnnlnngnn', 'wbss', 'wnss', 'ppfprptkpmzkbjppp', 'pvxv', 'swwwwwwhwwnwwwxj', 'pzhkvss', 'wnxpx', 'fsfwp', 'zzdjz', 'vnvvvvvvvvvvv', 'wfxfff', 'zzzqfzz', 'qqjqsqqqf', 'kwwkmww', 'hhhhhhgh', 'vvbzvvkn', 'svrqpqrgrrhmzbms', 'jnnnncnnnnnxnnnnnp', 'dgnhsc', 'lplltbv', 'mmrnsbcqr', 'wwjwwwwww', 'bccccccfcccccccdcc', 'sjnlmxwllg', 'cqvhkwhtstwrl', 'khvxhhhgfchhknhhhz', 'ccccccccdc', 'jjxbmbwmnqbblfbgzsz', 'pppp', 'jzxbbb', 'hhhgjhhw', 'vfxftzkmlzk', 'mmdptdzhwdbjhvkccrhk', 'sssvsdpsssssspns', 'fffffffflfbk', 'nhbgtbjvbpmrnhf', 'ttttttttttttttttttm', 'tsttr', 'fnkknptqn', 'qjpjjjjjjtpxjqjw', 'clccccccccckccc', 'dpftffzcfhqffddfpff', 'trjj', 'zwzmzzczsdd', 'vrpbggfn', 'qksvzkj', 'wfdfjlfwmjrdmxx', 'bnplnlgqcwql', 'nqlfdnnnnnnnvbnwnlh', 'dgxhsrql', 'qvwcrkxtkjxlq', 'ckgggg', 'xbhhvzvxbhhhhhbhkzhh', 'whwdwrxgc', 'bbrbnjbfb', 'brwwkfvwwwww', 'gmggghngggg', 'bgslljzntbmvtkbgllgg', 'gggggggggggkggggggg', 'gllllllll', 'jkkqkkgkrkvxkkkkskgb', 'vljvgnvm', 'jrjvrprr', 'xxffrnff', 'jhjjjjjjjjjtjjfjjpjr', 'rfllhmnqtrkv', 'lnndv', 'hzzsrprnnjlwdfs', 'vqqqq', 'gxbpbbppbrbbnlkmbb', 'bbbbbbbbbbbbpb', 'mtrftthtttftttztttst', 'nfzzzzvzzczzzzzzzz', 'mmmcmmmmmmmmmm', 'jpswppqbmpfpzpg', 'ccccccpcccc', 'ztscdrkxxctdft', 'mqfqqqqjqqfqdqqq', 'zzjcxdmzgzzzppbtztzz', 'wwwpwhwqcwwwwwgw', 'pczp', 'ddddmdfd', 'fftc', 'vvmv', 'tjkcvkkkkgkzkkxqv', 'vdkvbn', 'wbcjhswc', 'lllbqrllll', 'sjnlw', 'mjtmzfjjtsgvgtq', 'llrllml', 'dngddlqdtgdcd', 'cblhld', 'trrq', 'kcccc', 'bgbgjggpvgpgpggg', 'szwlfm', 'ffffffffffffzfff', 'ddddddddddnnddddr', 'xmbpwmhsznmldhnxflc', 'qqqnqqqg', 'ttwbpmnthmjr', 'xbcxxbwxxrpxnfxd', 'dngdd', 'qkxfdljnnl', 'ftfffff', 'nnnnnncnnnnnnnsnn', 'dkdd', 'vvvvgv', 'jvvvvvvvvvvvvmvvv', 'rrrrrr', 'bnvbbbtbjgxfchnkhcjb', 'wjggxgggggggxgmrvcg', 'bhvxhxxxx', 'rprr', 'cccccccqc', 'bbgplbbcdtbbdbgbbhbz', 'wjgw', 'zhzzt', 'sjjrtjkjhjj', 'mlmrrmm']\n"
     ]
    }
   ],
   "source": [
    "with open('day2_input.txt') as file:\n",
    "    lines = file.readlines()\n",
    "\n",
    "passwords = []\n",
    "policies = []\n",
    "\n",
    "for line in lines:\n",
    "    policy, password = line.split(':')\n",
    "    passwords.append(password[1:-1])\n",
    "    policies.append(policy)\n",
    "\n",
    "print(policies)\n",
    "print(passwords)"
   ]
  },
  {
   "cell_type": "markdown",
   "metadata": {},
   "source": [
    "Now we need to do a little more cleanup in order to parse the policies\n",
    "* Identify the minimum number\n",
    "* Identify the maximum number\n",
    "* Identify the character to enforce the rule on"
   ]
  },
  {
   "cell_type": "code",
   "execution_count": 2,
   "metadata": {},
   "outputs": [
    {
     "name": "stdout",
     "output_type": "stream",
     "text": [
      "6\n",
      "10\n",
      "s\n",
      "6\n",
      "7\n",
      "b\n",
      "2\n",
      "4\n",
      "n\n",
      "1\n",
      "2\n",
      "j\n",
      "5\n",
      "9\n",
      "z\n",
      "4\n",
      "11\n",
      "m\n",
      "12\n",
      "15\n",
      "t\n",
      "8\n",
      "9\n",
      "z\n",
      "17\n",
      "18\n",
      "h\n",
      "7\n",
      "8\n",
      "b\n"
     ]
    }
   ],
   "source": [
    "policy_lower_bounds = []\n",
    "policy_upper_bounds = []\n",
    "policy_characters = []\n",
    "\n",
    "for policy in policies:\n",
    "    policy_bound, policy_character = policy.split()\n",
    "    policy_lower_bound, policy_upper_bound = policy_bound.split('-')\n",
    "    \n",
    "    policy_lower_bounds.append(int(policy_lower_bound))\n",
    "    policy_upper_bounds.append(int(policy_upper_bound))\n",
    "    policy_characters.append(policy_character)\n",
    "    \n",
    "for i in range(10):\n",
    "    print(policy_lower_bounds[i])\n",
    "    print(policy_upper_bounds[i])\n",
    "    print(policy_characters[i])"
   ]
  },
  {
   "cell_type": "markdown",
   "metadata": {},
   "source": [
    "We should have everything set up now to check whether the passwords are cromulent. We'll loop through the passwords, at each stop, we'll count the appropriate characters in the password string, and see if the result falls between the relevant bounds. The relevant variables are:\n",
    "* `passwords`\n",
    "* `policy_characters`\n",
    "* `policy_lower_bounds`\n",
    "* `policy_upper_bounds`"
   ]
  },
  {
   "cell_type": "code",
   "execution_count": 3,
   "metadata": {},
   "outputs": [
    {
     "name": "stdout",
     "output_type": "stream",
     "text": [
      "There are a total of 414 passwords which met the appropriate policy\n"
     ]
    }
   ],
   "source": [
    "cromulent_passwords = 0\n",
    "\n",
    "for i, password in enumerate(passwords):\n",
    "    count = 0\n",
    "    for character in password:\n",
    "        if character == policy_characters[i]:\n",
    "            count += 1\n",
    "    \n",
    "    if policy_lower_bounds[i] <= count <= policy_upper_bounds[i]:\n",
    "        cromulent_passwords += 1\n",
    "        \n",
    "print(f'There are a total of {cromulent_passwords} passwords which met the appropriate policy')    "
   ]
  },
  {
   "cell_type": "markdown",
   "metadata": {},
   "source": [
    "To do the second part, we must modify the condition to check the passwords based on the character positions"
   ]
  },
  {
   "cell_type": "code",
   "execution_count": 5,
   "metadata": {},
   "outputs": [
    {
     "name": "stdout",
     "output_type": "stream",
     "text": [
      "There are a total of 413 passwords which met the appropriate policy\n"
     ]
    }
   ],
   "source": [
    "cromulent_passwords = 0\n",
    "\n",
    "for i, password in enumerate(passwords):\n",
    "    count = 0\n",
    "\n",
    "    for j, character in enumerate(password):\n",
    "        if character == policy_characters[i] and j == policy_lower_bounds[i]-1:\n",
    "            lower_bound = 1\n",
    "        else:\n",
    "            lower_bound = 0\n",
    "        if character == policy_characters[i] and j == policy_upper_bounds[i]-1:\n",
    "            upper_bound = 1\n",
    "        else:\n",
    "            upper_bound = 0\n",
    "        \n",
    "        if lower_bound + upper_bound == 1:\n",
    "            count += 1\n",
    "    \n",
    "    if count == 1:\n",
    "        cromulent_passwords += 1\n",
    "        \n",
    "print(f'There are a total of {cromulent_passwords} passwords which met the appropriate policy')  "
   ]
  }
 ],
 "metadata": {
  "kernelspec": {
   "display_name": "Python 3",
   "language": "python",
   "name": "python3"
  },
  "language_info": {
   "codemirror_mode": {
    "name": "ipython",
    "version": 3
   },
   "file_extension": ".py",
   "mimetype": "text/x-python",
   "name": "python",
   "nbconvert_exporter": "python",
   "pygments_lexer": "ipython3",
   "version": "3.7.4"
  }
 },
 "nbformat": 4,
 "nbformat_minor": 4
}
