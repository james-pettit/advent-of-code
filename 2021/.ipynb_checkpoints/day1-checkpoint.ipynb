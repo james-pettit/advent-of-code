{
 "cells": [
  {
   "cell_type": "code",
   "execution_count": 3,
   "metadata": {},
   "outputs": [
    {
     "name": "stdout",
     "output_type": "stream",
     "text": [
      "['1440\\n', '1511\\n', '1731\\n', '1400\\n', '1542\\n', '1571\\n', '1768\\n', '1730\\n', '1959\\n', '1342\\n', '1744\\n', '872\\n', '1237\\n', '1846\\n', '1597\\n', '1583\\n', '1711\\n', '1499\\n', '1679\\n', '1895\\n', '1875\\n', '1928\\n', '1728\\n', '1673\\n', '481\\n', '1934\\n', '673\\n', '1704\\n', '1916\\n', '1958\\n', '1821\\n', '1649\\n', '1640\\n', '1802\\n', '1732\\n', '121\\n', '1924\\n', '1438\\n', '1748\\n', '1046\\n', '1905\\n', '1566\\n', '1152\\n', '1964\\n', '1518\\n', '1603\\n', '1414\\n', '1785\\n', '1993\\n', '1594\\n', '1761\\n', '1455\\n', '1738\\n', '1699\\n', '1507\\n', '1483\\n', '1450\\n', '1653\\n', '1644\\n', '19\\n', '1340\\n', '1227\\n', '1353\\n', '2009\\n', '1188\\n', '1228\\n', '1898\\n', '1941\\n', '1515\\n', '1766\\n', '1351\\n', '1980\\n', '1378\\n', '1702\\n', '1620\\n', '1729\\n', '1279\\n', '1384\\n', '1894\\n', '1770\\n', '1853\\n', '1161\\n', '1970\\n', '1986\\n', '1669\\n', '1938\\n', '1602\\n', '1190\\n', '1822\\n', '425\\n', '1750\\n', '1632\\n', '1613\\n', '1805\\n', '1718\\n', '1990\\n', '1762\\n', '1242\\n', '1485\\n', '1598\\n', '1893\\n', '1995\\n', '1823\\n', '1786\\n', '1506\\n', '1464\\n', '1467\\n', '1639\\n', '1674\\n', '1903\\n', '1961\\n', '1478\\n', '1847\\n', '1760\\n', '1997\\n', '2010\\n', '899\\n', '2000\\n', '1488\\n', '1243\\n', '1891\\n', '1504\\n', '1693\\n', '1176\\n', '1391\\n', '1563\\n', '692\\n', '1497\\n', '1428\\n', '1745\\n', '1368\\n', '1723\\n', '1989\\n', '1930\\n', '1171\\n', '1840\\n', '1372\\n', '1987\\n', '1952\\n', '1842\\n', '1967\\n', '1759\\n', '1929\\n', '1945\\n', '1919\\n', '1333\\n', '1692\\n', '1811\\n', '1221\\n', '1520\\n', '1920\\n', '1093\\n', '1618\\n', '1795\\n', '1686\\n', '1369\\n', '1820\\n', '1857\\n', '1356\\n', '1562\\n', '2004\\n', '1519\\n', '1628\\n', '1831\\n', '1687\\n', '1792\\n', '1948\\n', '927\\n', '1789\\n', '1546\\n', '1338\\n', '1614\\n', '1472\\n', '1494\\n', '1979\\n', '1936\\n', '1577\\n', '1147\\n', '1446\\n', '1683\\n', '1375\\n', '856\\n', '1787\\n', '1517\\n', '1724\\n', '1334\\n', '1642\\n', '1496\\n', '1668\\n', '1725\\n', '1800\\n', '1708\\n', '1814\\n', '1585\\n', '1827\\n', '1801\\n', '1208\\n', '1839\\n', '1596\\n', '1925\\n']\n"
     ]
    }
   ],
   "source": [
    "with open('day1_input.txt') as file:\n",
    "    lines = file.readlines()\n",
    "print(lines)"
   ]
  },
  {
   "cell_type": "code",
   "execution_count": 7,
   "metadata": {},
   "outputs": [
    {
     "name": "stdout",
     "output_type": "stream",
     "text": [
      "[1440, 1511, 1731, 1400, 1542, 1571, 1768, 1730, 1959, 1342, 1744, 872, 1237, 1846, 1597, 1583, 1711, 1499, 1679, 1895, 1875, 1928, 1728, 1673, 481, 1934, 673, 1704, 1916, 1958, 1821, 1649, 1640, 1802, 1732, 121, 1924, 1438, 1748, 1046, 1905, 1566, 1152, 1964, 1518, 1603, 1414, 1785, 1993, 1594, 1761, 1455, 1738, 1699, 1507, 1483, 1450, 1653, 1644, 19, 1340, 1227, 1353, 2009, 1188, 1228, 1898, 1941, 1515, 1766, 1351, 1980, 1378, 1702, 1620, 1729, 1279, 1384, 1894, 1770, 1853, 1161, 1970, 1986, 1669, 1938, 1602, 1190, 1822, 425, 1750, 1632, 1613, 1805, 1718, 1990, 1762, 1242, 1485, 1598, 1893, 1995, 1823, 1786, 1506, 1464, 1467, 1639, 1674, 1903, 1961, 1478, 1847, 1760, 1997, 2010, 899, 2000, 1488, 1243, 1891, 1504, 1693, 1176, 1391, 1563, 692, 1497, 1428, 1745, 1368, 1723, 1989, 1930, 1171, 1840, 1372, 1987, 1952, 1842, 1967, 1759, 1929, 1945, 1919, 1333, 1692, 1811, 1221, 1520, 1920, 1093, 1618, 1795, 1686, 1369, 1820, 1857, 1356, 1562, 2004, 1519, 1628, 1831, 1687, 1792, 1948, 927, 1789, 1546, 1338, 1614, 1472, 1494, 1979, 1936, 1577, 1147, 1446, 1683, 1375, 856, 1787, 1517, 1724, 1334, 1642, 1496, 1668, 1725, 1800, 1708, 1814, 1585, 1827, 1801, 1208, 1839, 1596, 1925]\n"
     ]
    }
   ],
   "source": [
    "expenses = []\n",
    "\n",
    "for line in lines:\n",
    "    expenses.append(int(line[:-1]))\n",
    "\n",
    "print(expenses)"
   ]
  },
  {
   "cell_type": "code",
   "execution_count": 18,
   "metadata": {},
   "outputs": [
    {
     "name": "stdout",
     "output_type": "stream",
     "text": [
      "The two expenses that sum to 2020 are 1093 and 927\n",
      "The product of the expenses that sum to 2020 is 1013211\n",
      "The two expenses that sum to 2020 are 927 and 1093\n",
      "The product of the expenses that sum to 2020 is 1013211\n"
     ]
    }
   ],
   "source": [
    "for expense in expenses:\n",
    "    for second_expense in expenses:\n",
    "        if expense + second_expense == 2020:\n",
    "            print(f'The two expenses that sum to 2020 are {expense} and {second_expense}')\n",
    "            print(f'The product of the expenses that sum to 2020 is {expense*second_expense}')"
   ]
  },
  {
   "cell_type": "code",
   "execution_count": 20,
   "metadata": {},
   "outputs": [
    {
     "name": "stdout",
     "output_type": "stream",
     "text": [
      "The expenses that sum to 2020 are 481 and 19 and 1520\n",
      "The product of the expenses that sum to 2020 is 13891280\n",
      "The expenses that sum to 2020 are 481 and 1520 and 19\n",
      "The product of the expenses that sum to 2020 is 13891280\n",
      "The expenses that sum to 2020 are 19 and 481 and 1520\n",
      "The product of the expenses that sum to 2020 is 13891280\n",
      "The expenses that sum to 2020 are 19 and 1520 and 481\n",
      "The product of the expenses that sum to 2020 is 13891280\n",
      "The expenses that sum to 2020 are 1520 and 481 and 19\n",
      "The product of the expenses that sum to 2020 is 13891280\n",
      "The expenses that sum to 2020 are 1520 and 19 and 481\n",
      "The product of the expenses that sum to 2020 is 13891280\n"
     ]
    }
   ],
   "source": [
    "for expense in expenses:\n",
    "    for second_expense in expenses:\n",
    "        for third_expense in expenses:\n",
    "            if expense + second_expense + third_expense == 2020:\n",
    "                print(f'The expenses that sum to 2020 are {expense} and {second_expense} and {third_expense}')\n",
    "                print(f'The product of the expenses that sum to 2020 is {expense*second_expense*third_expense}')"
   ]
  }
 ],
 "metadata": {
  "kernelspec": {
   "display_name": "Python 3",
   "language": "python",
   "name": "python3"
  },
  "language_info": {
   "codemirror_mode": {
    "name": "ipython",
    "version": 3
   },
   "file_extension": ".py",
   "mimetype": "text/x-python",
   "name": "python",
   "nbconvert_exporter": "python",
   "pygments_lexer": "ipython3",
   "version": "3.7.4"
  }
 },
 "nbformat": 4,
 "nbformat_minor": 4
}
