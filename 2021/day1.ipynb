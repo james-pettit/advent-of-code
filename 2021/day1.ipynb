{
 "cells": [
  {
   "cell_type": "markdown",
   "metadata": {},
   "source": [
    "# Part 1 - Finding increasing depths\n",
    "Start by opening the file, and cleaning the newline characters. Cleaning the newlines is required to avoid an off by one error when comparing the last value, which doesn't have a newline termination."
   ]
  },
  {
   "cell_type": "code",
   "execution_count": 27,
   "metadata": {},
   "outputs": [],
   "source": [
    "with open('day1_input.txt') as file:\n",
    "    depth_lines = file.readlines()\n",
    "\n",
    "depths = []\n",
    "    \n",
    "for line in depth_lines:\n",
    "    depths.append(int(line.strip()))\n"
   ]
  },
  {
   "cell_type": "markdown",
   "metadata": {},
   "source": [
    "Set a counter to check the number of increased values, and loop over the length of the list (minus 1 to avoid an off by 1 error). Some commented print values were used for debugging."
   ]
  },
  {
   "cell_type": "code",
   "execution_count": 30,
   "metadata": {},
   "outputs": [
    {
     "name": "stdout",
     "output_type": "stream",
     "text": [
      "1342\n"
     ]
    }
   ],
   "source": [
    "increased = 0\n",
    "\n",
    "for i in range(len(depths)-1):\n",
    "    if depths[i+1] > depths[i]:\n",
    "        increased += 1\n",
    "        #print(f\"{depths[i]} increased to {depths[i+1]}\")\n",
    "    #else:\n",
    "        #print(f\"{depths[i]} decreased to {depths[i+1]}\")\n",
    "        \n",
    "print(increased)"
   ]
  },
  {
   "cell_type": "markdown",
   "metadata": {},
   "source": [
    "The number of lines where the depth increased is 1342. This is the answer to the first part. \n",
    "\n",
    "# Part 2 - Using a rolling average\n",
    "\n",
    "In order to form each rolling average, we can bump in the next value while dropping each value out the back as the new one is added. I'll make a 3 element list to hold the rolling average, and then copy each value along to the next place, making a new list of averaged depths"
   ]
  },
  {
   "cell_type": "code",
   "execution_count": 35,
   "metadata": {},
   "outputs": [],
   "source": [
    "averaged_depths = []\n",
    "\n",
    "rolling_average = [0,0,0]\n",
    "\n",
    "for i in range(len(depths)-2):\n",
    "    rolling_average[0] = depths[i]\n",
    "    rolling_average[1] = depths[i+1]\n",
    "    rolling_average[2] = depths[i+2]\n",
    "    \n",
    "    average = sum(rolling_average)/3.0\n",
    "    \n",
    "    averaged_depths.append(average)"
   ]
  },
  {
   "cell_type": "markdown",
   "metadata": {},
   "source": [
    "Now the depths have been massaged to rolling averages, and it's easy to just reuse the same code from above"
   ]
  },
  {
   "cell_type": "code",
   "execution_count": 36,
   "metadata": {},
   "outputs": [
    {
     "name": "stdout",
     "output_type": "stream",
     "text": [
      "1378\n"
     ]
    }
   ],
   "source": [
    "increased = 0\n",
    "\n",
    "for i in range(len(averaged_depths)-1):\n",
    "    if averaged_depths[i+1] > averaged_depths[i]:\n",
    "        increased += 1\n",
    "        \n",
    "print(increased)"
   ]
  },
  {
   "cell_type": "markdown",
   "metadata": {},
   "source": [
    "Which is the right answer for the rolling average increase"
   ]
  }
 ],
 "metadata": {
  "kernelspec": {
   "display_name": "Python 3",
   "language": "python",
   "name": "python3"
  },
  "language_info": {
   "codemirror_mode": {
    "name": "ipython",
    "version": 3
   },
   "file_extension": ".py",
   "mimetype": "text/x-python",
   "name": "python",
   "nbconvert_exporter": "python",
   "pygments_lexer": "ipython3",
   "version": "3.7.4"
  }
 },
 "nbformat": 4,
 "nbformat_minor": 4
}
