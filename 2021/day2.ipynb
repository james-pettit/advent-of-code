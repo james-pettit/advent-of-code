{
 "cells": [
  {
   "cell_type": "markdown",
   "metadata": {},
   "source": [
    "# Part 1 - Direction following\n",
    "\n",
    "We can just sum up all the inputs, and then subtract the \"up\" sum from the \"down\" sum to find the final depth. Since there's no backwards, we can just use the forward result as provided. First, the input needs to be read and cleaned, and we can declare the intial position."
   ]
  },
  {
   "cell_type": "code",
   "execution_count": 37,
   "metadata": {},
   "outputs": [],
   "source": [
    "with open('day2_input.txt') as file:\n",
    "    lines = file.readlines()\n",
    "\n",
    "forward_travel = 0 \n",
    "down_travel = 0\n",
    "up_travel = 0"
   ]
  },
  {
   "cell_type": "markdown",
   "metadata": {},
   "source": [
    "Then we just need to loop over the lines and parse each one to sum up the distances travelled in each direction"
   ]
  },
  {
   "cell_type": "code",
   "execution_count": 19,
   "metadata": {},
   "outputs": [],
   "source": [
    "for line in lines:\n",
    "    direction, distance = line.strip().split(\" \")\n",
    "    \n",
    "    if direction == \"forward\":\n",
    "        forward_travel += int(distance)\n",
    "    if direction == \"down\":\n",
    "        down_travel += int(distance)\n",
    "    if direction == \"up\":\n",
    "        up_travel += int(distance)"
   ]
  },
  {
   "cell_type": "markdown",
   "metadata": {},
   "source": [
    "Then getting the answer is just a matter of finding the depth and multiplying as specified"
   ]
  },
  {
   "cell_type": "code",
   "execution_count": 20,
   "metadata": {},
   "outputs": [
    {
     "name": "stdout",
     "output_type": "stream",
     "text": [
      "2019945\n"
     ]
    }
   ],
   "source": [
    "depth = down_travel - up_travel\n",
    "\n",
    "print(depth * forward_travel)"
   ]
  },
  {
   "cell_type": "markdown",
   "metadata": {},
   "source": [
    "# Part 2 - That did seem too easy...\n",
    "\n",
    "We can do most of the same parsing as previously, but now we need to initialize and track the aim value as described. We can also track depth directly instead of needing to track both up and down motion."
   ]
  },
  {
   "cell_type": "code",
   "execution_count": 38,
   "metadata": {},
   "outputs": [],
   "source": [
    "forward_travel = 0 \n",
    "aim = 0\n",
    "depth = 0\n",
    "\n",
    "for line in lines:\n",
    "    direction, distance = line.strip().split(\" \")\n",
    "    \n",
    "    if direction == \"forward\":\n",
    "        forward_travel += int(distance)\n",
    "        depth += int(distance) * int(aim)\n",
    "    if direction == \"down\":\n",
    "        aim += int(distance)\n",
    "    if direction == \"up\":\n",
    "        aim -= int(distance)"
   ]
  },
  {
   "cell_type": "markdown",
   "metadata": {},
   "source": [
    "Then we should be able to get the answer the same way as before"
   ]
  },
  {
   "cell_type": "code",
   "execution_count": 39,
   "metadata": {},
   "outputs": [
    {
     "name": "stdout",
     "output_type": "stream",
     "text": [
      "1599311480\n"
     ]
    }
   ],
   "source": [
    "print(depth * forward_travel)"
   ]
  }
 ],
 "metadata": {
  "kernelspec": {
   "display_name": "Python 3",
   "language": "python",
   "name": "python3"
  },
  "language_info": {
   "codemirror_mode": {
    "name": "ipython",
    "version": 3
   },
   "file_extension": ".py",
   "mimetype": "text/x-python",
   "name": "python",
   "nbconvert_exporter": "python",
   "pygments_lexer": "ipython3",
   "version": "3.7.4"
  }
 },
 "nbformat": 4,
 "nbformat_minor": 4
}
