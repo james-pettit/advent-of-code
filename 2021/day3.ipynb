{
 "cells": [
  {
   "cell_type": "markdown",
   "metadata": {},
   "source": [
    "# Binary power consumption codes\n",
    "\n",
    "The plan here is to sum up each column, and then see if it is more than half the length of the list of codes. Since if 1 is the most common value, when the columns are summed, it will exceed half the length of the list. First, read the lines and declare a list to store the diagnostic codes from each position based on the lenght of the first code"
   ]
  },
  {
   "cell_type": "code",
   "execution_count": 3,
   "metadata": {},
   "outputs": [],
   "source": [
    "with open('day3_input.txt') as file:\n",
    "    lines = file.readlines()\n",
    "\n",
    "diagnostic_columns = [0] * len(lines[0].strip())"
   ]
  },
  {
   "cell_type": "markdown",
   "metadata": {},
   "source": [
    "Then, just loop over the lines and sum the values in each position into the tracker columns. This should result in a list of the total number of 1 values in each column."
   ]
  },
  {
   "cell_type": "code",
   "execution_count": 4,
   "metadata": {},
   "outputs": [],
   "source": [
    "for line in lines:\n",
    "    diagnostic_line = line.strip()\n",
    "    \n",
    "    for i in range(len(diagnostic_columns)):\n",
    "        diagnostic_columns[i] += int(diagnostic_line[i])"
   ]
  },
  {
   "cell_type": "markdown",
   "metadata": {},
   "source": [
    "Next, we need to figure out whether each column has more than 50% 1 values, which would make that column a 1 in the gamma rate, or vice versa."
   ]
  },
  {
   "cell_type": "code",
   "execution_count": 5,
   "metadata": {},
   "outputs": [],
   "source": [
    "gamma_rate = \"\"\n",
    "epsilon_rate = \"\"\n",
    "\n",
    "for column in diagnostic_columns:\n",
    "    if column > len(lines)/2:\n",
    "        gamma_rate += \"1\"\n",
    "        epsilon_rate += \"0\"\n",
    "    else:\n",
    "        gamma_rate += \"0\"\n",
    "        epsilon_rate += \"1\""
   ]
  },
  {
   "cell_type": "markdown",
   "metadata": {},
   "source": [
    "Finally, the power consumption is a multiplication away, ensuring we interpret the binary strings in base 2"
   ]
  },
  {
   "cell_type": "code",
   "execution_count": 6,
   "metadata": {},
   "outputs": [
    {
     "name": "stdout",
     "output_type": "stream",
     "text": [
      "198\n"
     ]
    }
   ],
   "source": [
    "power_consumption = int(gamma_rate,2) * int(epsilon_rate,2)\n",
    "\n",
    "print(power_consumption)"
   ]
  },
  {
   "cell_type": "markdown",
   "metadata": {},
   "source": [
    "# Life support codes\n",
    "\n",
    "Some of the code defined previously will be helpful here, but will have to be called repeatedly, so I'll define a function which will drop the irrelevant values from the list. I'll just copy the relevant lines from above and write the function directly"
   ]
  },
  {
   "cell_type": "code",
   "execution_count": 67,
   "metadata": {},
   "outputs": [],
   "source": [
    "def filter_lines (lines, index, mask):\n",
    "    diagnostic_columns = [0] * len(lines[0].strip())\n",
    "    \n",
    "    for line in lines:\n",
    "        diagnostic_line = line.strip()\n",
    "    \n",
    "        for i in range(len(diagnostic_columns)):\n",
    "            diagnostic_columns[i] += int(diagnostic_line[i])\n",
    "            \n",
    "    if diagnostic_columns[index] >= len(lines)/2:\n",
    "        rating_filter = mask\n",
    "    else:\n",
    "        rating_filter = not mask\n",
    "            \n",
    "    filtered_lines = []\n",
    "    \n",
    "    for i, line in enumerate(lines):\n",
    "        if int(line[index]) == rating_filter:\n",
    "            filtered_lines.append(line)\n",
    "            \n",
    "    return filtered_lines"
   ]
  },
  {
   "cell_type": "markdown",
   "metadata": {},
   "source": [
    "The above is mostly re-used from Part 1, with a few changes. First index variable is used to indicate which column we are currently examining. The \"mask\" variable is used to differentiate the algorithm used for the O2 generator codes from the C02 scrubber codes. Next, we need to do a little intializing and then call the function in a while loop until there is only one value remaining. This needs to be repeated for the CO2 scrubber as well."
   ]
  },
  {
   "cell_type": "code",
   "execution_count": 75,
   "metadata": {},
   "outputs": [
    {
     "name": "stdout",
     "output_type": "stream",
     "text": [
      "Oxygen generator rating is 1909\n",
      "CO2 scrubber rating is 2322\n",
      "Life support rating is 4432698\n"
     ]
    }
   ],
   "source": [
    "with open('day3_input.txt') as file:\n",
    "    lines = file.readlines()\n",
    "\n",
    "ox_lines = lines.copy()\n",
    "co2_lines = lines.copy()\n",
    "\n",
    "index = 0\n",
    "\n",
    "while len(ox_lines) > 1:\n",
    "    ox_lines = filter_lines(ox_lines, index, 1)\n",
    "    index += 1\n",
    "    \n",
    "index = 0\n",
    "    \n",
    "while len(co2_lines) > 1:\n",
    "    co2_lines = filter_lines(co2_lines, index, 0)\n",
    "    index += 1\n",
    "    \n",
    "print(f\"Oxygen generator rating is {int(ox_lines[0],2)}\")\n",
    "print(f\"CO2 scrubber rating is {int(co2_lines[0],2)}\")\n",
    "print(f\"Life support rating is {int(ox_lines[0],2) * int(co2_lines[0],2)}\")"
   ]
  }
 ],
 "metadata": {
  "kernelspec": {
   "display_name": "Python 3",
   "language": "python",
   "name": "python3"
  },
  "language_info": {
   "codemirror_mode": {
    "name": "ipython",
    "version": 3
   },
   "file_extension": ".py",
   "mimetype": "text/x-python",
   "name": "python",
   "nbconvert_exporter": "python",
   "pygments_lexer": "ipython3",
   "version": "3.7.4"
  }
 },
 "nbformat": 4,
 "nbformat_minor": 4
}
