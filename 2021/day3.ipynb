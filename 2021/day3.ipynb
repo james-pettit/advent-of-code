{
 "cells": [
  {
   "cell_type": "markdown",
   "metadata": {},
   "source": [
    "# Binary power consumption codes\n",
    "\n",
    "The plan here is to sum up each column, and then see if it is more than half the length of the list of codes. Since if 1 is the most common value, when the columns are summed, it will exceed half the length of the list. First, read the lines and declare a list to store the diagnostic codes from each position based on the lenght of the first code"
   ]
  },
  {
   "cell_type": "code",
   "execution_count": 26,
   "metadata": {},
   "outputs": [],
   "source": [
    "with open('day3_input.txt') as file:\n",
    "    lines = file.readlines()\n",
    "\n",
    "diagnostic_columns = [0] * len(lines[0].strip())"
   ]
  },
  {
   "cell_type": "markdown",
   "metadata": {},
   "source": [
    "Then, just loop over the lines and sum the values in each position into the tracker columns. This should result in a list of the total number of 1 values in each column."
   ]
  },
  {
   "cell_type": "code",
   "execution_count": 27,
   "metadata": {},
   "outputs": [],
   "source": [
    "for line in lines:\n",
    "    diagnostic_line = line.strip()\n",
    "    \n",
    "    for i in range(len(diagnostic_columns)):\n",
    "        diagnostic_columns[i] += int(diagnostic_line[i])"
   ]
  },
  {
   "cell_type": "markdown",
   "metadata": {},
   "source": [
    "Next, we need to figure out whether each column has more than 50% 1 values, which would make that column a 1 in the gamma rate, or vice versa."
   ]
  },
  {
   "cell_type": "code",
   "execution_count": 28,
   "metadata": {},
   "outputs": [],
   "source": [
    "gamma_rate = \"\"\n",
    "epsilon_rate = \"\"\n",
    "\n",
    "for column in diagnostic_columns:\n",
    "    if column > len(lines)/2:\n",
    "        gamma_rate += \"1\"\n",
    "        epsilon_rate += \"0\"\n",
    "    else:\n",
    "        gamma_rate += \"0\"\n",
    "        epsilon_rate += \"1\""
   ]
  },
  {
   "cell_type": "markdown",
   "metadata": {},
   "source": [
    "Finally, the power consumption is a multiplication away, ensuring we interpret the binary strings in base 2"
   ]
  },
  {
   "cell_type": "code",
   "execution_count": 29,
   "metadata": {},
   "outputs": [
    {
     "name": "stdout",
     "output_type": "stream",
     "text": [
      "3374136\n"
     ]
    }
   ],
   "source": [
    "power_consumption = int(gamma_rate,2) * int(epsilon_rate,2)\n",
    "\n",
    "print(power_consumption)"
   ]
  }
 ],
 "metadata": {
  "kernelspec": {
   "display_name": "Python 3",
   "language": "python",
   "name": "python3"
  },
  "language_info": {
   "codemirror_mode": {
    "name": "ipython",
    "version": 3
   },
   "file_extension": ".py",
   "mimetype": "text/x-python",
   "name": "python",
   "nbconvert_exporter": "python",
   "pygments_lexer": "ipython3",
   "version": "3.7.4"
  }
 },
 "nbformat": 4,
 "nbformat_minor": 4
}
