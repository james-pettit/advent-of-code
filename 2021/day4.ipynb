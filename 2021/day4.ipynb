{
 "cells": [
  {
   "cell_type": "markdown",
   "metadata": {},
   "source": [
    "# Part 1 - That's a Bingo!\n",
    "\n",
    "I'm going to start this one by writing a class and some functions that contains some useful stuff, and then start actually importing the data afterwards. The first decision that needs to be made is how to store the bingo boards, and the board state (i.e. what tiles have been called). The board state doesn't need to be stored for each board between rounds, it's probably easier to recreate it from scratch each time to see if a board is winning.\n",
    "\n",
    "The most obvious way to store the boards is just as 5 lists of 5 elements each. Each element representing one number across the board, and each list representing one line of the board, top to bottom. The board state can be stored as an equivalent array of booleans. The overall set of boards can just be a list of these "
   ]
  },
  {
   "cell_type": "code",
   "execution_count": 10,
   "metadata": {},
   "outputs": [],
   "source": [
    "import math # needed for square root function to find size of bingo board\n",
    "\n",
    "class Board:\n",
    "    def __init__(self, values):\n",
    "        value_index = 0\n",
    "        self.values = []\n",
    "        size = int(math.sqrt(len(values)))\n",
    "        for y in range(size):\n",
    "            line = []\n",
    "            for x in range(size):\n",
    "                line.append(values[value_index])\n",
    "                value_index += 1\n",
    "            self.values.append(line)\n",
    "        self.selected = [[0 for col in range(size)] for row in range(size)]\n",
    "\n",
    "    \n",
    "    def __str__(self):\n",
    "        return_string = []\n",
    "        for i in range(len(self.values)):\n",
    "            return_string.append(str(self.values[i]))\n",
    "        \n",
    "        return str(\"\\n\".join(return_string))\n",
    "        \n",
    "    \n",
    "    def select_squares(self, selected_numbers):\n",
    "        for y, line in enumerate(self.values):\n",
    "            for x, element in enumerate(line):\n",
    "                if element in selected_numbers:\n",
    "                    self.selected[y][x] = 1\n",
    "                else:\n",
    "                    self.selected[y][x] = 0\n",
    "        \n",
    "    \n",
    "    def check_win(self):\n",
    "        # check for across win and return true if present\n",
    "        for line in self.selected:\n",
    "            if sum(line) == len(line):\n",
    "                return True\n",
    "        \n",
    "        # check for vertical win and return true if present\n",
    "        for i in range(len(self.selected[0])):\n",
    "            selected_squares = 0\n",
    "            for line in self.selected:\n",
    "                selected_squares += line[i]\n",
    "            if selected_squares == len(self.selected):\n",
    "                return True\n",
    "            \n",
    "        # if neither across nor vertical win, return false    \n",
    "        return False\n",
    "    \n",
    "def return_winner(selected_numbers, boards):\n",
    "    \n",
    "    called_numbers = []\n",
    "\n",
    "    for i in range(len(selected_numbers)):\n",
    "        called_numbers.append(selected_numbers[i])\n",
    "        for board in boards:\n",
    "            board.select_squares(called_numbers)\n",
    "            if board.check_win():\n",
    "                return board, int(called_numbers[-1])"
   ]
  },
  {
   "cell_type": "markdown",
   "metadata": {},
   "source": [
    "Then, I just need to parse the input file to load the boards, and use the new functions to find the winning board. A little bit of processing to find the unselected numbers, and I have the solve"
   ]
  },
  {
   "cell_type": "code",
   "execution_count": 12,
   "metadata": {},
   "outputs": [
    {
     "name": "stdout",
     "output_type": "stream",
     "text": [
      "The winning board is: \n",
      "[86, 80, 77, 18, 87]\n",
      "[79, 93, 52, 17, 20]\n",
      "[30, 68, 48, 12, 91]\n",
      "[25, 98, 13, 9, 47]\n",
      "[45, 73, 97, 15, 59]\n",
      "\n",
      "The winning number is 73\n",
      "\n",
      "The sum of the numbers not selected from the winning board is 806\n",
      "\n",
      "The answer is 58838\n"
     ]
    }
   ],
   "source": [
    "with open('day4_input.txt') as file:\n",
    "    lines = file.readlines()\n",
    "\n",
    "selected_numbers = [int(i) for i in lines[0].strip().split(\",\")]\n",
    "\n",
    "del lines[0:2]\n",
    "\n",
    "boards = []\n",
    "\n",
    "while lines:\n",
    "    board_values = []\n",
    "    for i in range(5):\n",
    "        board_values += [int(i) for i in lines[i].strip().split()]\n",
    "    boards.append(Board(board_values))\n",
    "    del lines[0:6]\n",
    "    \n",
    "winner, winning_number = return_winner(selected_numbers, boards)\n",
    "\n",
    "unselected_values_sum = 0\n",
    "\n",
    "for y, line in enumerate(winner.values):\n",
    "    for x, element in enumerate(line):\n",
    "        if winner.selected[y][x] == 0:\n",
    "            unselected_values_sum += winner.values[y][x]\n",
    "            \n",
    "print(f\"The winning board is: \\n{winner}\\n\")\n",
    "print(f\"The winning number is {winning_number}\\n\")\n",
    "print(f\"The sum of the numbers not selected from the winning board is {unselected_values_sum}\\n\")\n",
    "print(f\"The answer is {winning_number * unselected_values_sum}\")"
   ]
  },
  {
   "cell_type": "markdown",
   "metadata": {},
   "source": [
    "# Part 2 - Squid's game\n",
    "\n",
    "We should be able to do almost the same thing, but we need a new function `return_loser` which will return the last winning board, as well as the winning number. This function goes through the input numbers until all the boards have won, and then steps one input back to find a board that has won on the current round, but not the previous round"
   ]
  },
  {
   "cell_type": "code",
   "execution_count": 23,
   "metadata": {},
   "outputs": [],
   "source": [
    "def return_loser(selected_numbers, boards):\n",
    "    \n",
    "    called_numbers = []\n",
    "    \n",
    "    for i in range(len(selected_numbers)):\n",
    "        winners = 0\n",
    "        called_numbers.append(selected_numbers[i])\n",
    "        for board in boards:\n",
    "            board.select_squares(called_numbers)\n",
    "            if board.check_win():\n",
    "                winners += 1\n",
    "        if winners == len(boards):\n",
    "            previous_numbers = called_numbers[0:-1]\n",
    "            winning_number = called_numbers[-1]\n",
    "            break\n",
    "            \n",
    "    for board in boards:\n",
    "        board.select_squares(previous_numbers)\n",
    "        prev_win = board.check_win()\n",
    "        \n",
    "        board.select_squares(called_numbers)\n",
    "        current_win = board.check_win()\n",
    "        \n",
    "        \n",
    "        if current_win and not prev_win:\n",
    "            return board, int(winning_number)"
   ]
  },
  {
   "cell_type": "markdown",
   "metadata": {},
   "source": [
    "Almost all the code from before can be resued here to call the functions and determine the losing board"
   ]
  },
  {
   "cell_type": "code",
   "execution_count": 24,
   "metadata": {},
   "outputs": [
    {
     "name": "stdout",
     "output_type": "stream",
     "text": [
      "The last winning board is: \n",
      "[17, 16, 10, 68, 76]\n",
      "[2, 45, 94, 29, 40]\n",
      "[1, 54, 60, 66, 93]\n",
      "[0, 13, 42, 39, 70]\n",
      "[6, 82, 46, 74, 43]\n",
      "\n",
      "The winning number is 46\n",
      "\n",
      "The sum of the numbers not selected from the winning board is 136\n",
      "\n",
      "The answer is 6256\n"
     ]
    }
   ],
   "source": [
    "with open('day4_input.txt') as file:\n",
    "    lines = file.readlines()\n",
    "\n",
    "selected_numbers = [int(i) for i in lines[0].strip().split(\",\")]\n",
    "\n",
    "del lines[0:2]\n",
    "\n",
    "boards = []\n",
    "\n",
    "while lines:\n",
    "    board_values = []\n",
    "    for i in range(5):\n",
    "        board_values += [int(i) for i in lines[i].strip().split()]\n",
    "    boards.append(Board(board_values))\n",
    "    del lines[0:6]\n",
    "    \n",
    "loser, winning_number = return_loser(selected_numbers, boards)\n",
    "\n",
    "unselected_values_sum = 0\n",
    "\n",
    "for y, line in enumerate(loser.values):\n",
    "    for x, element in enumerate(line):\n",
    "        if loser.selected[y][x] == 0:\n",
    "            unselected_values_sum += loser.values[y][x]\n",
    "            \n",
    "print(f\"The last winning board is: \\n{loser}\\n\")\n",
    "print(f\"The winning number is {winning_number}\\n\")\n",
    "print(f\"The sum of the numbers not selected from the winning board is {unselected_values_sum}\\n\")\n",
    "print(f\"The answer is {winning_number * unselected_values_sum}\")"
   ]
  }
 ],
 "metadata": {
  "kernelspec": {
   "display_name": "Python 3",
   "language": "python",
   "name": "python3"
  },
  "language_info": {
   "codemirror_mode": {
    "name": "ipython",
    "version": 3
   },
   "file_extension": ".py",
   "mimetype": "text/x-python",
   "name": "python",
   "nbconvert_exporter": "python",
   "pygments_lexer": "ipython3",
   "version": "3.7.4"
  }
 },
 "nbformat": 4,
 "nbformat_minor": 5
}
